{
 "cells": [
  {
   "cell_type": "code",
   "execution_count": 1,
   "id": "251c041b-ae2b-44a5-b3c5-35c52b24ea43",
   "metadata": {
    "tags": []
   },
   "outputs": [
    {
     "name": "stdout",
     "output_type": "stream",
     "text": [
      "List:  [79, 198, 174, 265, 219, 101, 225, 175, 329, 94, 302, 358, 265, 87, 362, 155, 94, 18, 218, 128, 260, 269, 222]\n",
      "265 is matching\n",
      "94 is matching\n",
      "There are  2  matching birthdays\n"
     ]
    }
   ],
   "source": [
    "import random\n",
    "def random_birthday():\n",
    "    \"\"\" Generates random birthdays from 1 to 365. (Days in the year)\n",
    "    \"\"\"\n",
    "    return random.randint(1, 365)\n",
    "\n",
    "def list_of_birthdays(number_of_students):\n",
    "    \"\"\"Uses random_birthday function to generate a list of random birthdays, \n",
    "    according to the number of students (preferrably 23 students)\n",
    "    \"\"\"\n",
    "    list_birthdays = []\n",
    "    \n",
    "    for i in range(number_of_students):\n",
    "        birthday = random_birthday()\n",
    "        list_birthdays.append(birthday)\n",
    "    return list_birthdays\n",
    "\n",
    "def check_matching_birthdays(list_of_birthdays):\n",
    "    \"\"\"Takes list of birthdays and compares it to another list called \"compare\".\n",
    "    It counts the number of birthdays that appear more than once and returns the\n",
    "    value. It also prints the list of birthdays and the matching birthday integer.\n",
    "    \"\"\"\n",
    "    #Compare with this list\n",
    "    compare = []           \n",
    "    count = 0\n",
    "    \n",
    "    print('List: ', list_of_birthdays)\n",
    "    \n",
    "    for birthday in list_of_birthdays:\n",
    "        if birthday in compare:\n",
    "            count += 1\n",
    "            print(birthday, 'is matching')\n",
    "        else:\n",
    "            compare.append(birthday)\n",
    "    return count\n",
    "\n",
    "matches = check_matching_birthdays(list_of_birthdays(23))\n",
    "print('There are ', matches ,' matching birthdays')"
   ]
  },
  {
   "cell_type": "code",
   "execution_count": null,
   "id": "3943bec7-2437-4366-8f2b-9c74e7a48fbe",
   "metadata": {},
   "outputs": [],
   "source": []
  }
 ],
 "metadata": {
  "kernelspec": {
   "display_name": "Python 3 (ipykernel)",
   "language": "python",
   "name": "python3"
  },
  "language_info": {
   "codemirror_mode": {
    "name": "ipython",
    "version": 3
   },
   "file_extension": ".py",
   "mimetype": "text/x-python",
   "name": "python",
   "nbconvert_exporter": "python",
   "pygments_lexer": "ipython3",
   "version": "3.11.5"
  }
 },
 "nbformat": 4,
 "nbformat_minor": 5
}
